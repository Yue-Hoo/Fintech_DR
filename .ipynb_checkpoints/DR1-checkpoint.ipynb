{
 "cells": [
  {
   "cell_type": "code",
   "execution_count": 2,
   "metadata": {
    "colab": {
     "base_uri": "https://localhost:8080/",
     "height": 34
    },
    "colab_type": "code",
    "id": "LeqcLs9hCvWy",
    "outputId": "950f6c9f-eb9d-4f6e-dac6-1ae1b9b30f74"
   },
   "outputs": [
    {
     "name": "stdout",
     "output_type": "stream",
     "text": [
      "Drive already mounted at /content/drive; to attempt to forcibly remount, call drive.mount(\"/content/drive\", force_remount=True).\n"
     ]
    }
   ],
   "source": [
    "import os\n",
    "from google.colab import drive\n",
    "drive.mount('/content/drive')\n",
    "\n",
    "path = \"/content/drive/My Drive/DR/images\"\n",
    "\n",
    "os.chdir(path)"
   ]
  },
  {
   "cell_type": "code",
   "execution_count": 3,
   "metadata": {
    "colab": {
     "base_uri": "https://localhost:8080/",
     "height": 81
    },
    "colab_type": "code",
    "id": "3ZBMiIfBId5d",
    "outputId": "df11b0e8-21e0-477d-eaf8-2980be820618"
   },
   "outputs": [
    {
     "name": "stderr",
     "output_type": "stream",
     "text": [
      "Using TensorFlow backend.\n"
     ]
    },
    {
     "data": {
      "text/html": [
       "<p style=\"color: red;\">\n",
       "The default version of TensorFlow in Colab will soon switch to TensorFlow 2.x.<br>\n",
       "We recommend you <a href=\"https://www.tensorflow.org/guide/migrate\" target=\"_blank\">upgrade</a> now \n",
       "or ensure your notebook will continue to use TensorFlow 1.x via the <code>%tensorflow_version 1.x</code> magic:\n",
       "<a href=\"https://colab.research.google.com/notebooks/tensorflow_version.ipynb\" target=\"_blank\">more info</a>.</p>\n"
      ],
      "text/plain": [
       "<IPython.core.display.HTML object>"
      ]
     },
     "metadata": {
      "tags": []
     },
     "output_type": "display_data"
    }
   ],
   "source": [
    "import numpy as np # linear algebra\n",
    "import pandas as pd # data processing, CSV file I/O (e.g. pd.read_csv)\n",
    "import keras \n",
    "\n",
    "from tqdm import tqdm\n",
    "import os\n",
    "from sklearn.model_selection import train_test_split\n",
    "from cv2 import cv2\n",
    "from PIL import Image\n",
    "import tensorflow as tf\n",
    "from matplotlib import pyplot as plt\n",
    "\n",
    "from keras.layers import Dense, Dropout, Flatten, Input, ZeroPadding2D\n",
    "from keras.layers.normalization import BatchNormalization\n",
    "from keras.preprocessing.image import ImageDataGenerator, array_to_img, img_to_array, load_img\n",
    "from keras.preprocessing import image\n",
    "from keras.utils import plot_model\n",
    "from keras.models import Model\n",
    "from keras.layers.convolutional import Conv2D\n",
    "from keras.layers.pooling import MaxPooling2D\n",
    "from numpy import array \n",
    "from keras import regularizers\n",
    "from keras import optimizers\n",
    "from keras.models import load_model\n",
    "from keras.callbacks import EarlyStopping, ReduceLROnPlateau, ModelCheckpoint\n",
    "from PIL import ImageFile"
   ]
  },
  {
   "cell_type": "code",
   "execution_count": 4,
   "metadata": {
    "colab": {
     "base_uri": "https://localhost:8080/",
     "height": 52
    },
    "colab_type": "code",
    "id": "ibNmntC2F_ZW",
    "outputId": "fb6dfb1d-f038-4193-f3b2-ef0b5c7c35cc"
   },
   "outputs": [
    {
     "name": "stdout",
     "output_type": "stream",
     "text": [
      "drive\n",
      "ImageDataGen_Size512_oneHOT_ClassWeights_Callbacks_SGD_L2.h5\n"
     ]
    }
   ],
   "source": [
    "from PIL import Image\n",
    "import os\n",
    "import numpy as np\n",
    "import matplotlib.pyplot as plt\n",
    "import cv2\n",
    "imageList = os.listdir(path)\n",
    "imageList_clean=[]\n",
    "for i in range(len(imageList)):\n",
    "  if imageList[i][-4:] == 'jpeg':\n",
    "    imageList_clean.append(imageList[i])\n",
    "  else:\n",
    "    print(imageList[i])"
   ]
  },
  {
   "cell_type": "code",
   "execution_count": 0,
   "metadata": {
    "colab": {},
    "colab_type": "code",
    "id": "TGKhYf8RfmCw"
   },
   "outputs": [],
   "source": [
    "image=[]\n",
    "for i in range(len(imageList_clean)):\n",
    "    image.append(Image.open(path+'/'+imageList_clean[i]))"
   ]
  },
  {
   "cell_type": "code",
   "execution_count": 0,
   "metadata": {
    "colab": {},
    "colab_type": "code",
    "id": "axzRxq8CC5eO"
   },
   "outputs": [],
   "source": [
    "I_array=[]\n",
    "for im in image:\n",
    "  I_array.append(np.array(im))"
   ]
  },
  {
   "cell_type": "code",
   "execution_count": 0,
   "metadata": {
    "colab": {},
    "colab_type": "code",
    "id": "wazXU_hNZ8bq"
   },
   "outputs": [],
   "source": [
    "for i in range(len(I_array)):\n",
    "  I_array[i] = cv2.resize(I_array[i], (512,512), interpolation=cv2.INTER_CUBIC)\n"
   ]
  },
  {
   "cell_type": "code",
   "execution_count": 0,
   "metadata": {
    "colab": {},
    "colab_type": "code",
    "id": "zujhQLgVFL_d"
   },
   "outputs": [],
   "source": [
    "import json\n",
    "with open('/content/drive/My Drive/DR/labels.json', 'r') as f:\n",
    "    labels = json.load(f)"
   ]
  },
  {
   "cell_type": "code",
   "execution_count": 9,
   "metadata": {
    "colab": {
     "base_uri": "https://localhost:8080/",
     "height": 197
    },
    "colab_type": "code",
    "id": "n3agBZlGFNcr",
    "outputId": "7bca6321-142a-4f46-f995-6537414ed6ab"
   },
   "outputs": [
    {
     "data": {
      "text/html": [
       "<div>\n",
       "<style scoped>\n",
       "    .dataframe tbody tr th:only-of-type {\n",
       "        vertical-align: middle;\n",
       "    }\n",
       "\n",
       "    .dataframe tbody tr th {\n",
       "        vertical-align: top;\n",
       "    }\n",
       "\n",
       "    .dataframe thead th {\n",
       "        text-align: right;\n",
       "    }\n",
       "</style>\n",
       "<table border=\"1\" class=\"dataframe\">\n",
       "  <thead>\n",
       "    <tr style=\"text-align: right;\">\n",
       "      <th></th>\n",
       "      <th>image_irr</th>\n",
       "      <th>index</th>\n",
       "      <th>label</th>\n",
       "    </tr>\n",
       "  </thead>\n",
       "  <tbody>\n",
       "    <tr>\n",
       "      <th>0</th>\n",
       "      <td>[[[0, 0, 0], [0, 0, 0], [0, 0, 0], [0, 0, 0], ...</td>\n",
       "      <td>23538_left.jpeg</td>\n",
       "      <td>2</td>\n",
       "    </tr>\n",
       "    <tr>\n",
       "      <th>1</th>\n",
       "      <td>[[[0, 0, 0], [0, 0, 0], [0, 0, 0], [0, 0, 0], ...</td>\n",
       "      <td>23722_right.jpeg</td>\n",
       "      <td>0</td>\n",
       "    </tr>\n",
       "    <tr>\n",
       "      <th>2</th>\n",
       "      <td>[[[0, 0, 0], [0, 0, 0], [0, 0, 0], [0, 0, 0], ...</td>\n",
       "      <td>23611_right.jpeg</td>\n",
       "      <td>2</td>\n",
       "    </tr>\n",
       "    <tr>\n",
       "      <th>3</th>\n",
       "      <td>[[[0, 0, 0], [0, 0, 0], [0, 0, 0], [0, 0, 0], ...</td>\n",
       "      <td>23717_left.jpeg</td>\n",
       "      <td>2</td>\n",
       "    </tr>\n",
       "    <tr>\n",
       "      <th>4</th>\n",
       "      <td>[[[0, 0, 0], [0, 0, 0], [0, 0, 0], [0, 0, 0], ...</td>\n",
       "      <td>23724_left.jpeg</td>\n",
       "      <td>0</td>\n",
       "    </tr>\n",
       "  </tbody>\n",
       "</table>\n",
       "</div>"
      ],
      "text/plain": [
       "                                           image_irr             index  label\n",
       "0  [[[0, 0, 0], [0, 0, 0], [0, 0, 0], [0, 0, 0], ...   23538_left.jpeg      2\n",
       "1  [[[0, 0, 0], [0, 0, 0], [0, 0, 0], [0, 0, 0], ...  23722_right.jpeg      0\n",
       "2  [[[0, 0, 0], [0, 0, 0], [0, 0, 0], [0, 0, 0], ...  23611_right.jpeg      2\n",
       "3  [[[0, 0, 0], [0, 0, 0], [0, 0, 0], [0, 0, 0], ...   23717_left.jpeg      2\n",
       "4  [[[0, 0, 0], [0, 0, 0], [0, 0, 0], [0, 0, 0], ...   23724_left.jpeg      0"
      ]
     },
     "execution_count": 9,
     "metadata": {
      "tags": []
     },
     "output_type": "execute_result"
    }
   ],
   "source": [
    "import pandas as pd\n",
    "labeldict=dict(labels)\n",
    "dataset=pd.DataFrame()\n",
    "dataset['image_irr']=I_array\n",
    "dataset['index']=imageList_clean\n",
    "dataset['label']=dataset['index'].map(labeldict)\n",
    "dataset.head()"
   ]
  },
  {
   "cell_type": "code",
   "execution_count": 10,
   "metadata": {
    "colab": {
     "base_uri": "https://localhost:8080/",
     "height": 197
    },
    "colab_type": "code",
    "id": "GBnWdrCUF9CK",
    "outputId": "9079547f-88b4-4105-fc27-29faac8f1580"
   },
   "outputs": [
    {
     "data": {
      "text/html": [
       "<div>\n",
       "<style scoped>\n",
       "    .dataframe tbody tr th:only-of-type {\n",
       "        vertical-align: middle;\n",
       "    }\n",
       "\n",
       "    .dataframe tbody tr th {\n",
       "        vertical-align: top;\n",
       "    }\n",
       "\n",
       "    .dataframe thead th {\n",
       "        text-align: right;\n",
       "    }\n",
       "</style>\n",
       "<table border=\"1\" class=\"dataframe\">\n",
       "  <thead>\n",
       "    <tr style=\"text-align: right;\">\n",
       "      <th></th>\n",
       "      <th>0</th>\n",
       "      <th>1</th>\n",
       "      <th>2</th>\n",
       "      <th>3</th>\n",
       "      <th>4</th>\n",
       "    </tr>\n",
       "  </thead>\n",
       "  <tbody>\n",
       "    <tr>\n",
       "      <th>1495</th>\n",
       "      <td>1</td>\n",
       "      <td>0</td>\n",
       "      <td>0</td>\n",
       "      <td>0</td>\n",
       "      <td>0</td>\n",
       "    </tr>\n",
       "    <tr>\n",
       "      <th>1496</th>\n",
       "      <td>0</td>\n",
       "      <td>0</td>\n",
       "      <td>1</td>\n",
       "      <td>0</td>\n",
       "      <td>0</td>\n",
       "    </tr>\n",
       "    <tr>\n",
       "      <th>1497</th>\n",
       "      <td>0</td>\n",
       "      <td>0</td>\n",
       "      <td>1</td>\n",
       "      <td>0</td>\n",
       "      <td>0</td>\n",
       "    </tr>\n",
       "    <tr>\n",
       "      <th>1498</th>\n",
       "      <td>1</td>\n",
       "      <td>0</td>\n",
       "      <td>0</td>\n",
       "      <td>0</td>\n",
       "      <td>0</td>\n",
       "    </tr>\n",
       "    <tr>\n",
       "      <th>1499</th>\n",
       "      <td>0</td>\n",
       "      <td>1</td>\n",
       "      <td>0</td>\n",
       "      <td>0</td>\n",
       "      <td>0</td>\n",
       "    </tr>\n",
       "  </tbody>\n",
       "</table>\n",
       "</div>"
      ],
      "text/plain": [
       "      0  1  2  3  4\n",
       "1495  1  0  0  0  0\n",
       "1496  0  0  1  0  0\n",
       "1497  0  0  1  0  0\n",
       "1498  1  0  0  0  0\n",
       "1499  0  1  0  0  0"
      ]
     },
     "execution_count": 10,
     "metadata": {
      "tags": []
     },
     "output_type": "execute_result"
    }
   ],
   "source": [
    "df_series = pd.Series(dataset['label'])\n",
    "df_OH = pd.get_dummies(df_series)\n",
    "df_OH.tail()"
   ]
  },
  {
   "cell_type": "code",
   "execution_count": 11,
   "metadata": {
    "colab": {
     "base_uri": "https://localhost:8080/",
     "height": 197
    },
    "colab_type": "code",
    "id": "K9odNe7wGy3H",
    "outputId": "882b7552-b4ac-4f43-ec9a-cba0fc5033a1"
   },
   "outputs": [
    {
     "data": {
      "text/html": [
       "<div>\n",
       "<style scoped>\n",
       "    .dataframe tbody tr th:only-of-type {\n",
       "        vertical-align: middle;\n",
       "    }\n",
       "\n",
       "    .dataframe tbody tr th {\n",
       "        vertical-align: top;\n",
       "    }\n",
       "\n",
       "    .dataframe thead th {\n",
       "        text-align: right;\n",
       "    }\n",
       "</style>\n",
       "<table border=\"1\" class=\"dataframe\">\n",
       "  <thead>\n",
       "    <tr style=\"text-align: right;\">\n",
       "      <th></th>\n",
       "      <th>image_irr</th>\n",
       "      <th>index</th>\n",
       "      <th>label</th>\n",
       "      <th>0</th>\n",
       "      <th>1</th>\n",
       "      <th>2</th>\n",
       "      <th>3</th>\n",
       "      <th>4</th>\n",
       "    </tr>\n",
       "  </thead>\n",
       "  <tbody>\n",
       "    <tr>\n",
       "      <th>0</th>\n",
       "      <td>[[[0, 0, 0], [0, 0, 0], [0, 0, 0], [0, 0, 0], ...</td>\n",
       "      <td>23538_left.jpeg</td>\n",
       "      <td>2</td>\n",
       "      <td>0</td>\n",
       "      <td>0</td>\n",
       "      <td>1</td>\n",
       "      <td>0</td>\n",
       "      <td>0</td>\n",
       "    </tr>\n",
       "    <tr>\n",
       "      <th>1</th>\n",
       "      <td>[[[0, 0, 0], [0, 0, 0], [0, 0, 0], [0, 0, 0], ...</td>\n",
       "      <td>23722_right.jpeg</td>\n",
       "      <td>0</td>\n",
       "      <td>1</td>\n",
       "      <td>0</td>\n",
       "      <td>0</td>\n",
       "      <td>0</td>\n",
       "      <td>0</td>\n",
       "    </tr>\n",
       "    <tr>\n",
       "      <th>2</th>\n",
       "      <td>[[[0, 0, 0], [0, 0, 0], [0, 0, 0], [0, 0, 0], ...</td>\n",
       "      <td>23611_right.jpeg</td>\n",
       "      <td>2</td>\n",
       "      <td>0</td>\n",
       "      <td>0</td>\n",
       "      <td>1</td>\n",
       "      <td>0</td>\n",
       "      <td>0</td>\n",
       "    </tr>\n",
       "    <tr>\n",
       "      <th>3</th>\n",
       "      <td>[[[0, 0, 0], [0, 0, 0], [0, 0, 0], [0, 0, 0], ...</td>\n",
       "      <td>23717_left.jpeg</td>\n",
       "      <td>2</td>\n",
       "      <td>0</td>\n",
       "      <td>0</td>\n",
       "      <td>1</td>\n",
       "      <td>0</td>\n",
       "      <td>0</td>\n",
       "    </tr>\n",
       "    <tr>\n",
       "      <th>4</th>\n",
       "      <td>[[[0, 0, 0], [0, 0, 0], [0, 0, 0], [0, 0, 0], ...</td>\n",
       "      <td>23724_left.jpeg</td>\n",
       "      <td>0</td>\n",
       "      <td>1</td>\n",
       "      <td>0</td>\n",
       "      <td>0</td>\n",
       "      <td>0</td>\n",
       "      <td>0</td>\n",
       "    </tr>\n",
       "  </tbody>\n",
       "</table>\n",
       "</div>"
      ],
      "text/plain": [
       "                                           image_irr             index  ...  3  4\n",
       "0  [[[0, 0, 0], [0, 0, 0], [0, 0, 0], [0, 0, 0], ...   23538_left.jpeg  ...  0  0\n",
       "1  [[[0, 0, 0], [0, 0, 0], [0, 0, 0], [0, 0, 0], ...  23722_right.jpeg  ...  0  0\n",
       "2  [[[0, 0, 0], [0, 0, 0], [0, 0, 0], [0, 0, 0], ...  23611_right.jpeg  ...  0  0\n",
       "3  [[[0, 0, 0], [0, 0, 0], [0, 0, 0], [0, 0, 0], ...   23717_left.jpeg  ...  0  0\n",
       "4  [[[0, 0, 0], [0, 0, 0], [0, 0, 0], [0, 0, 0], ...   23724_left.jpeg  ...  0  0\n",
       "\n",
       "[5 rows x 8 columns]"
      ]
     },
     "execution_count": 11,
     "metadata": {
      "tags": []
     },
     "output_type": "execute_result"
    }
   ],
   "source": [
    "df_all= pd.concat([dataset, df_OH], axis= 1)\n",
    "df_all.head()"
   ]
  },
  {
   "cell_type": "code",
   "execution_count": 0,
   "metadata": {
    "colab": {},
    "colab_type": "code",
    "id": "gqJWrMZSyH93"
   },
   "outputs": [],
   "source": [
    "train, test= train_test_split(df_all, test_size=0.2, random_state=42)"
   ]
  },
  {
   "cell_type": "code",
   "execution_count": 13,
   "metadata": {
    "colab": {
     "base_uri": "https://localhost:8080/",
     "height": 388
    },
    "colab_type": "code",
    "id": "G1CDhhvHyLPE",
    "outputId": "65dbe0e3-8bf5-4d29-9379-4fa8b919d4ff"
   },
   "outputs": [
    {
     "name": "stdout",
     "output_type": "stream",
     "text": [
      "New Data Size: 1000 Old Size: 1200\n"
     ]
    },
    {
     "data": {
      "text/plain": [
       "array([[<matplotlib.axes._subplots.AxesSubplot object at 0x7fe7601927b8>]],\n",
       "      dtype=object)"
      ]
     },
     "execution_count": 13,
     "metadata": {
      "tags": []
     },
     "output_type": "execute_result"
    },
    {
     "data": {
      "image/png": "[encoded data removed]",
      "text/plain": [
       "<Figure size 720x360 with 1 Axes>"
      ]
     },
     "metadata": {
      "tags": []
     },
     "output_type": "display_data"
    }
   ],
   "source": [
    "train_df = train.groupby(['label']).apply(lambda x: x.sample(200, replace = True)).reset_index(drop = True)\n",
    "print('New Data Size:', train_df.shape[0], 'Old Size:',train.shape[0])\n",
    "train_df[['label']].hist(figsize = (10, 5))"
   ]
  },
  {
   "cell_type": "code",
   "execution_count": 14,
   "metadata": {
    "colab": {
     "base_uri": "https://localhost:8080/",
     "height": 197
    },
    "colab_type": "code",
    "id": "wA0CucM5zowm",
    "outputId": "fea6eaad-43ab-4ac1-cb37-f5ebd74d7626"
   },
   "outputs": [
    {
     "data": {
      "text/html": [
       "<div>\n",
       "<style scoped>\n",
       "    .dataframe tbody tr th:only-of-type {\n",
       "        vertical-align: middle;\n",
       "    }\n",
       "\n",
       "    .dataframe tbody tr th {\n",
       "        vertical-align: top;\n",
       "    }\n",
       "\n",
       "    .dataframe thead th {\n",
       "        text-align: right;\n",
       "    }\n",
       "</style>\n",
       "<table border=\"1\" class=\"dataframe\">\n",
       "  <thead>\n",
       "    <tr style=\"text-align: right;\">\n",
       "      <th></th>\n",
       "      <th>image_irr</th>\n",
       "      <th>index</th>\n",
       "      <th>label</th>\n",
       "      <th>0</th>\n",
       "      <th>1</th>\n",
       "      <th>2</th>\n",
       "      <th>3</th>\n",
       "      <th>4</th>\n",
       "    </tr>\n",
       "  </thead>\n",
       "  <tbody>\n",
       "    <tr>\n",
       "      <th>0</th>\n",
       "      <td>[[[0, 0, 0], [0, 0, 0], [0, 0, 0], [0, 0, 0], ...</td>\n",
       "      <td>7238_right.jpeg</td>\n",
       "      <td>0</td>\n",
       "      <td>1</td>\n",
       "      <td>0</td>\n",
       "      <td>0</td>\n",
       "      <td>0</td>\n",
       "      <td>0</td>\n",
       "    </tr>\n",
       "    <tr>\n",
       "      <th>1</th>\n",
       "      <td>[[[0, 0, 0], [0, 0, 0], [0, 0, 0], [0, 0, 0], ...</td>\n",
       "      <td>8412_left.jpeg</td>\n",
       "      <td>0</td>\n",
       "      <td>1</td>\n",
       "      <td>0</td>\n",
       "      <td>0</td>\n",
       "      <td>0</td>\n",
       "      <td>0</td>\n",
       "    </tr>\n",
       "    <tr>\n",
       "      <th>2</th>\n",
       "      <td>[[[0, 0, 0], [0, 0, 0], [0, 0, 0], [0, 0, 0], ...</td>\n",
       "      <td>29706_right.jpeg</td>\n",
       "      <td>0</td>\n",
       "      <td>1</td>\n",
       "      <td>0</td>\n",
       "      <td>0</td>\n",
       "      <td>0</td>\n",
       "      <td>0</td>\n",
       "    </tr>\n",
       "    <tr>\n",
       "      <th>3</th>\n",
       "      <td>[[[0, 0, 0], [0, 0, 0], [0, 0, 0], [0, 0, 0], ...</td>\n",
       "      <td>29187_left.jpeg</td>\n",
       "      <td>0</td>\n",
       "      <td>1</td>\n",
       "      <td>0</td>\n",
       "      <td>0</td>\n",
       "      <td>0</td>\n",
       "      <td>0</td>\n",
       "    </tr>\n",
       "    <tr>\n",
       "      <th>4</th>\n",
       "      <td>[[[0, 0, 0], [0, 0, 0], [0, 0, 0], [0, 0, 0], ...</td>\n",
       "      <td>40928_right.jpeg</td>\n",
       "      <td>0</td>\n",
       "      <td>1</td>\n",
       "      <td>0</td>\n",
       "      <td>0</td>\n",
       "      <td>0</td>\n",
       "      <td>0</td>\n",
       "    </tr>\n",
       "  </tbody>\n",
       "</table>\n",
       "</div>"
      ],
      "text/plain": [
       "                                           image_irr             index  ...  3  4\n",
       "0  [[[0, 0, 0], [0, 0, 0], [0, 0, 0], [0, 0, 0], ...   7238_right.jpeg  ...  0  0\n",
       "1  [[[0, 0, 0], [0, 0, 0], [0, 0, 0], [0, 0, 0], ...    8412_left.jpeg  ...  0  0\n",
       "2  [[[0, 0, 0], [0, 0, 0], [0, 0, 0], [0, 0, 0], ...  29706_right.jpeg  ...  0  0\n",
       "3  [[[0, 0, 0], [0, 0, 0], [0, 0, 0], [0, 0, 0], ...   29187_left.jpeg  ...  0  0\n",
       "4  [[[0, 0, 0], [0, 0, 0], [0, 0, 0], [0, 0, 0], ...  40928_right.jpeg  ...  0  0\n",
       "\n",
       "[5 rows x 8 columns]"
      ]
     },
     "execution_count": 14,
     "metadata": {
      "tags": []
     },
     "output_type": "execute_result"
    }
   ],
   "source": [
    "train_df.head()"
   ]
  },
  {
   "cell_type": "code",
   "execution_count": 15,
   "metadata": {
    "colab": {
     "base_uri": "https://localhost:8080/",
     "height": 197
    },
    "colab_type": "code",
    "id": "NSp5MHYqI01z",
    "outputId": "f30f93cd-8570-4e2e-9a5e-ea5032bf84d8"
   },
   "outputs": [
    {
     "data": {
      "text/html": [
       "<div>\n",
       "<style scoped>\n",
       "    .dataframe tbody tr th:only-of-type {\n",
       "        vertical-align: middle;\n",
       "    }\n",
       "\n",
       "    .dataframe tbody tr th {\n",
       "        vertical-align: top;\n",
       "    }\n",
       "\n",
       "    .dataframe thead th {\n",
       "        text-align: right;\n",
       "    }\n",
       "</style>\n",
       "<table border=\"1\" class=\"dataframe\">\n",
       "  <thead>\n",
       "    <tr style=\"text-align: right;\">\n",
       "      <th></th>\n",
       "      <th>index</th>\n",
       "      <th>0</th>\n",
       "      <th>1</th>\n",
       "      <th>2</th>\n",
       "      <th>3</th>\n",
       "      <th>4</th>\n",
       "    </tr>\n",
       "  </thead>\n",
       "  <tbody>\n",
       "    <tr>\n",
       "      <th>0</th>\n",
       "      <td>7238_right.jpeg</td>\n",
       "      <td>1</td>\n",
       "      <td>0</td>\n",
       "      <td>0</td>\n",
       "      <td>0</td>\n",
       "      <td>0</td>\n",
       "    </tr>\n",
       "    <tr>\n",
       "      <th>1</th>\n",
       "      <td>8412_left.jpeg</td>\n",
       "      <td>1</td>\n",
       "      <td>0</td>\n",
       "      <td>0</td>\n",
       "      <td>0</td>\n",
       "      <td>0</td>\n",
       "    </tr>\n",
       "    <tr>\n",
       "      <th>2</th>\n",
       "      <td>29706_right.jpeg</td>\n",
       "      <td>1</td>\n",
       "      <td>0</td>\n",
       "      <td>0</td>\n",
       "      <td>0</td>\n",
       "      <td>0</td>\n",
       "    </tr>\n",
       "    <tr>\n",
       "      <th>3</th>\n",
       "      <td>29187_left.jpeg</td>\n",
       "      <td>1</td>\n",
       "      <td>0</td>\n",
       "      <td>0</td>\n",
       "      <td>0</td>\n",
       "      <td>0</td>\n",
       "    </tr>\n",
       "    <tr>\n",
       "      <th>4</th>\n",
       "      <td>40928_right.jpeg</td>\n",
       "      <td>1</td>\n",
       "      <td>0</td>\n",
       "      <td>0</td>\n",
       "      <td>0</td>\n",
       "      <td>0</td>\n",
       "    </tr>\n",
       "  </tbody>\n",
       "</table>\n",
       "</div>"
      ],
      "text/plain": [
       "              index  0  1  2  3  4\n",
       "0   7238_right.jpeg  1  0  0  0  0\n",
       "1    8412_left.jpeg  1  0  0  0  0\n",
       "2  29706_right.jpeg  1  0  0  0  0\n",
       "3   29187_left.jpeg  1  0  0  0  0\n",
       "4  40928_right.jpeg  1  0  0  0  0"
      ]
     },
     "execution_count": 15,
     "metadata": {
      "tags": []
     },
     "output_type": "execute_result"
    }
   ],
   "source": [
    "train_df_fn= train_df.drop('label', axis=1)\n",
    "train_df_fn=train_df_fn.drop('image_irr',axis=1)\n",
    "train_df_fn.head()"
   ]
  },
  {
   "cell_type": "code",
   "execution_count": 16,
   "metadata": {
    "colab": {
     "base_uri": "https://localhost:8080/",
     "height": 197
    },
    "colab_type": "code",
    "id": "MrBP8jVJ0PFg",
    "outputId": "afee3e11-a652-4bcc-bc90-c588c5e2673a"
   },
   "outputs": [
    {
     "data": {
      "text/html": [
       "<div>\n",
       "<style scoped>\n",
       "    .dataframe tbody tr th:only-of-type {\n",
       "        vertical-align: middle;\n",
       "    }\n",
       "\n",
       "    .dataframe tbody tr th {\n",
       "        vertical-align: top;\n",
       "    }\n",
       "\n",
       "    .dataframe thead th {\n",
       "        text-align: right;\n",
       "    }\n",
       "</style>\n",
       "<table border=\"1\" class=\"dataframe\">\n",
       "  <thead>\n",
       "    <tr style=\"text-align: right;\">\n",
       "      <th></th>\n",
       "      <th>index</th>\n",
       "      <th>0</th>\n",
       "      <th>1</th>\n",
       "      <th>2</th>\n",
       "      <th>3</th>\n",
       "      <th>4</th>\n",
       "    </tr>\n",
       "  </thead>\n",
       "  <tbody>\n",
       "    <tr>\n",
       "      <th>1116</th>\n",
       "      <td>13432_left.jpeg</td>\n",
       "      <td>1</td>\n",
       "      <td>0</td>\n",
       "      <td>0</td>\n",
       "      <td>0</td>\n",
       "      <td>0</td>\n",
       "    </tr>\n",
       "    <tr>\n",
       "      <th>1368</th>\n",
       "      <td>19936_right.jpeg</td>\n",
       "      <td>1</td>\n",
       "      <td>0</td>\n",
       "      <td>0</td>\n",
       "      <td>0</td>\n",
       "      <td>0</td>\n",
       "    </tr>\n",
       "    <tr>\n",
       "      <th>422</th>\n",
       "      <td>35010_right.jpeg</td>\n",
       "      <td>0</td>\n",
       "      <td>1</td>\n",
       "      <td>0</td>\n",
       "      <td>0</td>\n",
       "      <td>0</td>\n",
       "    </tr>\n",
       "    <tr>\n",
       "      <th>413</th>\n",
       "      <td>349_left.jpeg</td>\n",
       "      <td>1</td>\n",
       "      <td>0</td>\n",
       "      <td>0</td>\n",
       "      <td>0</td>\n",
       "      <td>0</td>\n",
       "    </tr>\n",
       "    <tr>\n",
       "      <th>451</th>\n",
       "      <td>35955_right.jpeg</td>\n",
       "      <td>0</td>\n",
       "      <td>0</td>\n",
       "      <td>0</td>\n",
       "      <td>0</td>\n",
       "      <td>1</td>\n",
       "    </tr>\n",
       "  </tbody>\n",
       "</table>\n",
       "</div>"
      ],
      "text/plain": [
       "                 index  0  1  2  3  4\n",
       "1116   13432_left.jpeg  1  0  0  0  0\n",
       "1368  19936_right.jpeg  1  0  0  0  0\n",
       "422   35010_right.jpeg  0  1  0  0  0\n",
       "413      349_left.jpeg  1  0  0  0  0\n",
       "451   35955_right.jpeg  0  0  0  0  1"
      ]
     },
     "execution_count": 16,
     "metadata": {
      "tags": []
     },
     "output_type": "execute_result"
    }
   ],
   "source": [
    "test_df_fn=test.drop('label',axis=1)\n",
    "test_df_fn=test_df_fn.drop('image_irr',axis=1)\n",
    "test_df_fn.head()"
   ]
  },
  {
   "cell_type": "code",
   "execution_count": 17,
   "metadata": {
    "colab": {
     "base_uri": "https://localhost:8080/",
     "height": 34
    },
    "colab_type": "code",
    "id": "eolrhVvHFGat",
    "outputId": "aeffb4dd-80a7-4fe9-9a5a-5966bc0515b3"
   },
   "outputs": [
    {
     "name": "stdout",
     "output_type": "stream",
     "text": [
      "Found 1000 validated image filenames.\n"
     ]
    }
   ],
   "source": [
    "#data augment\n",
    "from keras_preprocessing.image import ImageDataGenerator\n",
    "datagen=ImageDataGenerator(width_shift_range= 0.2, height_shift_range= 0.2,\n",
    "    rotation_range= 90, rescale = 1/255,\n",
    "    horizontal_flip= True, vertical_flip=True)\n",
    "train_generator=datagen.flow_from_dataframe(\n",
    "dataframe=train_df_fn,\n",
    "directory=\"/content/drive/My Drive/DR/images\",\n",
    "x_col=\"index\",\n",
    "y_col=[0,1,2,3,4],\n",
    "batch_size=32,\n",
    "seed=42,\n",
    "shuffle=True,\n",
    "class_mode=\"other\",\n",
    "target_size=(512,512))"
   ]
  },
  {
   "cell_type": "code",
   "execution_count": 18,
   "metadata": {
    "colab": {
     "base_uri": "https://localhost:8080/",
     "height": 34
    },
    "colab_type": "code",
    "id": "dGENSBU_LUA3",
    "outputId": "fa0a5bb3-c099-4602-9f5a-189387576ab9"
   },
   "outputs": [
    {
     "name": "stdout",
     "output_type": "stream",
     "text": [
      "Found 300 validated image filenames.\n"
     ]
    }
   ],
   "source": [
    "datagen_test=ImageDataGenerator(\n",
    "    horizontal_flip=True)\n",
    "test_generator=datagen_test.flow_from_dataframe(\n",
    "dataframe=test_df_fn,\n",
    "directory=\"/content/drive/My Drive/DR/images\",\n",
    "x_col=\"index\",\n",
    "y_col=[0,1,2,3,4],\n",
    "batch_size=32,\n",
    "seed=42,\n",
    "shuffle=True,\n",
    "class_mode=\"other\",\n",
    "target_size=(512,512))"
   ]
  },
  {
   "cell_type": "code",
   "execution_count": 19,
   "metadata": {
    "colab": {
     "base_uri": "https://localhost:8080/",
     "height": 509
    },
    "colab_type": "code",
    "id": "I4_-vzCELChq",
    "outputId": "e2182877-7045-4090-96b0-964c8148901c"
   },
   "outputs": [
    {
     "name": "stdout",
     "output_type": "stream",
     "text": [
      "WARNING:tensorflow:From /usr/local/lib/python3.6/dist-packages/keras/backend/tensorflow_backend.py:66: The name tf.get_default_graph is deprecated. Please use tf.compat.v1.get_default_graph instead.\n",
      "\n",
      "WARNING:tensorflow:From /usr/local/lib/python3.6/dist-packages/keras/backend/tensorflow_backend.py:541: The name tf.placeholder is deprecated. Please use tf.compat.v1.placeholder instead.\n",
      "\n",
      "WARNING:tensorflow:From /usr/local/lib/python3.6/dist-packages/keras/backend/tensorflow_backend.py:4432: The name tf.random_uniform is deprecated. Please use tf.random.uniform instead.\n",
      "\n",
      "WARNING:tensorflow:From /usr/local/lib/python3.6/dist-packages/keras/backend/tensorflow_backend.py:190: The name tf.get_default_session is deprecated. Please use tf.compat.v1.get_default_session instead.\n",
      "\n",
      "WARNING:tensorflow:From /usr/local/lib/python3.6/dist-packages/keras/backend/tensorflow_backend.py:197: The name tf.ConfigProto is deprecated. Please use tf.compat.v1.ConfigProto instead.\n",
      "\n",
      "WARNING:tensorflow:From /usr/local/lib/python3.6/dist-packages/keras/backend/tensorflow_backend.py:203: The name tf.Session is deprecated. Please use tf.compat.v1.Session instead.\n",
      "\n",
      "WARNING:tensorflow:From /usr/local/lib/python3.6/dist-packages/keras/backend/tensorflow_backend.py:207: The name tf.global_variables is deprecated. Please use tf.compat.v1.global_variables instead.\n",
      "\n",
      "WARNING:tensorflow:From /usr/local/lib/python3.6/dist-packages/keras/backend/tensorflow_backend.py:216: The name tf.is_variable_initialized is deprecated. Please use tf.compat.v1.is_variable_initialized instead.\n",
      "\n",
      "WARNING:tensorflow:From /usr/local/lib/python3.6/dist-packages/keras/backend/tensorflow_backend.py:223: The name tf.variables_initializer is deprecated. Please use tf.compat.v1.variables_initializer instead.\n",
      "\n",
      "WARNING:tensorflow:From /usr/local/lib/python3.6/dist-packages/keras/backend/tensorflow_backend.py:2041: The name tf.nn.fused_batch_norm is deprecated. Please use tf.compat.v1.nn.fused_batch_norm instead.\n",
      "\n",
      "WARNING:tensorflow:From /usr/local/lib/python3.6/dist-packages/keras/backend/tensorflow_backend.py:148: The name tf.placeholder_with_default is deprecated. Please use tf.compat.v1.placeholder_with_default instead.\n",
      "\n",
      "WARNING:tensorflow:From /usr/local/lib/python3.6/dist-packages/keras/backend/tensorflow_backend.py:4267: The name tf.nn.max_pool is deprecated. Please use tf.nn.max_pool2d instead.\n",
      "\n",
      "WARNING:tensorflow:From /usr/local/lib/python3.6/dist-packages/keras/backend/tensorflow_backend.py:3733: calling dropout (from tensorflow.python.ops.nn_ops) with keep_prob is deprecated and will be removed in a future version.\n",
      "Instructions for updating:\n",
      "Please use `rate` instead of `keep_prob`. Rate should be set to `rate = 1 - keep_prob`.\n"
     ]
    }
   ],
   "source": [
    "visible = Input(shape=(512,512,3))\n",
    "conv1 = Conv2D(16, kernel_size=(3,3), activation='relu', strides=(1, 1))(visible)\n",
    "conv2 = Conv2D(16, kernel_size=(3,3), activation='relu', strides=(1, 1))(conv1)\n",
    "bat1 = BatchNormalization()(conv2)\n",
    "pool1 = MaxPooling2D(pool_size=(2, 2))(bat1)\n",
    "zero1 = ZeroPadding2D(padding=(1, 1))(pool1)\n",
    "\n",
    "conv3 = Conv2D(32, kernel_size=(3,3), activation='relu', padding='valid', kernel_regularizer=regularizers.l2(0.05))(zero1)\n",
    "conv4 = Conv2D(32, kernel_size=(3,3), activation='relu', padding='valid', kernel_regularizer=regularizers.l2(0.05))(conv3)\n",
    "bat2 = BatchNormalization()(conv4)\n",
    "pool2 = MaxPooling2D(pool_size=(2, 2))(bat2)\n",
    "\n",
    "conv5 = Conv2D(64, kernel_size=(3,3), activation='relu',strides=(1, 1), padding='valid')(pool2)\n",
    "conv6 = Conv2D(64, kernel_size=(3,3), activation='relu',strides=(1, 1), padding='valid')(conv5)\n",
    "bat3 = BatchNormalization()(conv6)\n",
    "pool3 = MaxPooling2D(pool_size=(2, 2))(bat3)\n",
    "zero2 = ZeroPadding2D(padding=(1, 1))(pool3)\n",
    "\n",
    "conv7 = Conv2D(128, kernel_size=(3,3), activation='relu', padding='valid', kernel_regularizer=regularizers.l2(0.01))(zero2)\n",
    "conv8 = Conv2D(128, kernel_size=(2,2), activation='relu', strides=(1, 1), padding='valid')(conv7)\n",
    "bat4 = BatchNormalization()(conv8)\n",
    "\n",
    "conv9 = Conv2D(64, kernel_size=(3,3), activation='relu', padding='valid', kernel_regularizer=regularizers.l2(0.02))(bat4)\n",
    "conv10 = Conv2D(64, kernel_size=(3,3), activation='relu', padding='valid', kernel_regularizer=regularizers.l2(0.02))(conv9)\n",
    "bat5 = BatchNormalization()(conv10)\n",
    "\n",
    "conv11 = Conv2D(64, kernel_size=(3,3), activation='relu', strides=(1, 1))(bat5)\n",
    "conv12 = Conv2D(64, kernel_size=(3,3), activation='relu', strides=(1, 1))(conv11)\n",
    "bat6 = BatchNormalization()(conv12)\n",
    "pool4 = MaxPooling2D(pool_size=(2, 2))(bat6)\n",
    "\n",
    "conv13 = Conv2D(64, kernel_size=(3,3), activation='relu', padding='valid', kernel_regularizer=regularizers.l2(0.02))(pool4)\n",
    "conv14 = Conv2D(64, kernel_size=(3,3), activation='relu', padding='valid', kernel_regularizer=regularizers.l2(0.02))(conv13)\n",
    "bat7 = BatchNormalization()(conv14)\n",
    "\n",
    "conv15 = Conv2D(128, kernel_size=(3,3), activation='relu', padding='valid', kernel_regularizer=regularizers.l2(0.05))(bat7)\n",
    "conv16 = Conv2D(128, kernel_size=(2,2), activation='relu', strides=(1, 1), padding='valid')(conv15)\n",
    "bat8 = BatchNormalization()(conv16)\n",
    "\n",
    "flat = Flatten()(bat8)\n",
    "hidden1 = Dense(32, activation='relu')(flat)\n",
    "drop1 = Dropout(0.3)(hidden1)\n",
    "\n",
    "hidden2 = Dense(32, activation='relu')(drop1)\n",
    "drop2 = Dropout(0.2)(hidden2)\n",
    "\n",
    "output = Dense(5, activation='sigmoid')(drop2)\n",
    "model = Model(inputs=visible, outputs=output)"
   ]
  },
  {
   "cell_type": "code",
   "execution_count": 0,
   "metadata": {
    "colab": {
     "base_uri": "https://localhost:8080/",
     "height": 1000
    },
    "colab_type": "code",
    "id": "L6ZcajbqQpPA",
    "outputId": "8dc523c8-3bd9-46b2-acb3-5a26f73aad74"
   },
   "outputs": [
    {
     "name": "stdout",
     "output_type": "stream",
     "text": [
      "Model: \"model_6\"\n",
      "_________________________________________________________________\n",
      "Layer (type)                 Output Shape              Param #   \n",
      "=================================================================\n",
      "input_6 (InputLayer)         (None, 512, 512, 3)       0         \n",
      "_________________________________________________________________\n",
      "conv2d_81 (Conv2D)           (None, 510, 510, 16)      448       \n",
      "_________________________________________________________________\n",
      "conv2d_82 (Conv2D)           (None, 508, 508, 16)      2320      \n",
      "_________________________________________________________________\n",
      "batch_normalization_41 (Batc (None, 508, 508, 16)      64        \n",
      "_________________________________________________________________\n",
      "max_pooling2d_19 (MaxPooling (None, 254, 254, 16)      0         \n",
      "_________________________________________________________________\n",
      "zero_padding2d_11 (ZeroPaddi (None, 256, 256, 16)      0         \n",
      "_________________________________________________________________\n",
      "conv2d_83 (Conv2D)           (None, 254, 254, 32)      4640      \n",
      "_________________________________________________________________\n",
      "conv2d_84 (Conv2D)           (None, 252, 252, 32)      9248      \n",
      "_________________________________________________________________\n",
      "batch_normalization_42 (Batc (None, 252, 252, 32)      128       \n",
      "_________________________________________________________________\n",
      "max_pooling2d_20 (MaxPooling (None, 126, 126, 32)      0         \n",
      "_________________________________________________________________\n",
      "conv2d_85 (Conv2D)           (None, 124, 124, 64)      18496     \n",
      "_________________________________________________________________\n",
      "conv2d_86 (Conv2D)           (None, 122, 122, 64)      36928     \n",
      "_________________________________________________________________\n",
      "batch_normalization_43 (Batc (None, 122, 122, 64)      256       \n",
      "_________________________________________________________________\n",
      "max_pooling2d_21 (MaxPooling (None, 61, 61, 64)        0         \n",
      "_________________________________________________________________\n",
      "zero_padding2d_12 (ZeroPaddi (None, 63, 63, 64)        0         \n",
      "_________________________________________________________________\n",
      "conv2d_87 (Conv2D)           (None, 61, 61, 128)       73856     \n",
      "_________________________________________________________________\n",
      "conv2d_88 (Conv2D)           (None, 60, 60, 128)       65664     \n",
      "_________________________________________________________________\n",
      "batch_normalization_44 (Batc (None, 60, 60, 128)       512       \n",
      "_________________________________________________________________\n",
      "conv2d_89 (Conv2D)           (None, 58, 58, 64)        73792     \n",
      "_________________________________________________________________\n",
      "conv2d_90 (Conv2D)           (None, 56, 56, 64)        36928     \n",
      "_________________________________________________________________\n",
      "batch_normalization_45 (Batc (None, 56, 56, 64)        256       \n",
      "_________________________________________________________________\n",
      "conv2d_91 (Conv2D)           (None, 54, 54, 64)        36928     \n",
      "_________________________________________________________________\n",
      "conv2d_92 (Conv2D)           (None, 52, 52, 64)        36928     \n",
      "_________________________________________________________________\n",
      "batch_normalization_46 (Batc (None, 52, 52, 64)        256       \n",
      "_________________________________________________________________\n",
      "max_pooling2d_22 (MaxPooling (None, 26, 26, 64)        0         \n",
      "_________________________________________________________________\n",
      "conv2d_93 (Conv2D)           (None, 24, 24, 64)        36928     \n",
      "_________________________________________________________________\n",
      "conv2d_94 (Conv2D)           (None, 22, 22, 64)        36928     \n",
      "_________________________________________________________________\n",
      "batch_normalization_47 (Batc (None, 22, 22, 64)        256       \n",
      "_________________________________________________________________\n",
      "conv2d_95 (Conv2D)           (None, 20, 20, 128)       73856     \n",
      "_________________________________________________________________\n",
      "conv2d_96 (Conv2D)           (None, 19, 19, 128)       65664     \n",
      "_________________________________________________________________\n",
      "batch_normalization_48 (Batc (None, 19, 19, 128)       512       \n",
      "_________________________________________________________________\n",
      "flatten_6 (Flatten)          (None, 46208)             0         \n",
      "_________________________________________________________________\n",
      "dense_16 (Dense)             (None, 32)                1478688   \n",
      "_________________________________________________________________\n",
      "dropout_11 (Dropout)         (None, 32)                0         \n",
      "_________________________________________________________________\n",
      "dense_17 (Dense)             (None, 32)                1056      \n",
      "_________________________________________________________________\n",
      "dropout_12 (Dropout)         (None, 32)                0         \n",
      "_________________________________________________________________\n",
      "dense_18 (Dense)             (None, 5)                 165       \n",
      "=================================================================\n",
      "Total params: 2,091,701\n",
      "Trainable params: 2,090,581\n",
      "Non-trainable params: 1,120\n",
      "_________________________________________________________________\n"
     ]
    }
   ],
   "source": [
    "model.summary()"
   ]
  },
  {
   "cell_type": "code",
   "execution_count": 0,
   "metadata": {
    "colab": {},
    "colab_type": "code",
    "id": "fNmuKnDbL41-"
   },
   "outputs": [],
   "source": [
    "opt = optimizers.SGD(lr=0.01, decay=1e-6, momentum=0.9, nesterov=True)"
   ]
  },
  {
   "cell_type": "code",
   "execution_count": 21,
   "metadata": {
    "colab": {
     "base_uri": "https://localhost:8080/",
     "height": 159
    },
    "colab_type": "code",
    "id": "TkyB_lAyL7N0",
    "outputId": "84bf64c5-7d86-4214-dcc7-bb5176a816ea"
   },
   "outputs": [
    {
     "name": "stdout",
     "output_type": "stream",
     "text": [
      "WARNING:tensorflow:From /usr/local/lib/python3.6/dist-packages/keras/optimizers.py:793: The name tf.train.Optimizer is deprecated. Please use tf.compat.v1.train.Optimizer instead.\n",
      "\n",
      "WARNING:tensorflow:From /usr/local/lib/python3.6/dist-packages/keras/backend/tensorflow_backend.py:3657: The name tf.log is deprecated. Please use tf.math.log instead.\n",
      "\n",
      "WARNING:tensorflow:From /usr/local/lib/python3.6/dist-packages/tensorflow_core/python/ops/nn_impl.py:183: where (from tensorflow.python.ops.array_ops) is deprecated and will be removed in a future version.\n",
      "Instructions for updating:\n",
      "Use tf.where in 2.0, which has the same broadcast rule as np.where\n"
     ]
    }
   ],
   "source": [
    "model.compile(optimizer= opt, \n",
    "              loss='binary_crossentropy',\n",
    "              metrics=['accuracy'])"
   ]
  },
  {
   "cell_type": "code",
   "execution_count": 0,
   "metadata": {
    "colab": {},
    "colab_type": "code",
    "id": "fAyyvITuL9m7"
   },
   "outputs": [],
   "source": [
    "Callbacks=[EarlyStopping(patience=3, restore_best_weights=True), \n",
    "           ReduceLROnPlateau(patience=2), \n",
    "           ModelCheckpoint(filepath='ImageDataGen_Size256_oneHOT_ClassWeights_Callbacks_SGD_L2.h5', save_best_only=True)]"
   ]
  },
  {
   "cell_type": "code",
   "execution_count": 27,
   "metadata": {
    "colab": {
     "base_uri": "https://localhost:8080/",
     "height": 367
    },
    "colab_type": "code",
    "id": "sP8zqzNyL_qo",
    "outputId": "ceb615a8-ad1e-4b8b-d8eb-503ab4c93203"
   },
   "outputs": [
    {
     "name": "stdout",
     "output_type": "stream",
     "text": [
      "Epoch 1/10\n",
      "32/32 [==============================] - 64s 2s/step - loss: 2.8256 - acc: 0.7910 - val_loss: 5.2425 - val_acc: 0.7920\n",
      "Epoch 2/10\n",
      "32/32 [==============================] - 62s 2s/step - loss: 2.2795 - acc: 0.7910 - val_loss: 5.6996 - val_acc: 0.7267\n",
      "Epoch 3/10\n",
      "32/32 [==============================] - 63s 2s/step - loss: 1.8866 - acc: 0.7951 - val_loss: 4.5619 - val_acc: 0.6247\n",
      "Epoch 4/10\n",
      "32/32 [==============================] - 62s 2s/step - loss: 1.6084 - acc: 0.7944 - val_loss: 3.5618 - val_acc: 0.6747\n",
      "Epoch 5/10\n",
      "32/32 [==============================] - 63s 2s/step - loss: 1.3820 - acc: 0.7982 - val_loss: 3.5570 - val_acc: 0.8000\n",
      "Epoch 6/10\n",
      "32/32 [==============================] - 63s 2s/step - loss: 1.2069 - acc: 0.7996 - val_loss: 3.2256 - val_acc: 0.7933\n",
      "Epoch 7/10\n",
      "32/32 [==============================] - 63s 2s/step - loss: 1.0720 - acc: 0.7994 - val_loss: 1.3082 - val_acc: 0.8007\n",
      "Epoch 8/10\n",
      "32/32 [==============================] - 63s 2s/step - loss: 0.9733 - acc: 0.7994 - val_loss: 3.2851 - val_acc: 0.8000\n",
      "Epoch 9/10\n",
      "32/32 [==============================] - 62s 2s/step - loss: 0.8908 - acc: 0.7994 - val_loss: 3.5288 - val_acc: 0.8000\n",
      "Epoch 10/10\n",
      "32/32 [==============================] - 62s 2s/step - loss: 0.8466 - acc: 0.7994 - val_loss: 2.6803 - val_acc: 0.8020\n"
     ]
    }
   ],
   "source": [
    "with tf.device('/device:CPU:0'): \n",
    "  m1= model.fit_generator(\n",
    "            train_generator,\n",
    "            epochs=10,\n",
    "            validation_data=test_generator,\n",
    "            callbacks=Callbacks,\n",
    "            verbose=1)"
   ]
  },
  {
   "cell_type": "code",
   "execution_count": 28,
   "metadata": {
    "colab": {
     "base_uri": "https://localhost:8080/",
     "height": 34
    },
    "colab_type": "code",
    "id": "DcF1DnDMiM42",
    "outputId": "4d92284f-7948-4414-e452-d66a0e113ca2"
   },
   "outputs": [
    {
     "name": "stdout",
     "output_type": "stream",
     "text": [
      "10/10 [==============================] - 6s 553ms/step\n"
     ]
    }
   ],
   "source": [
    "pre_model = load_model('ImageDataGen_Size256_oneHOT_ClassWeights_Callbacks_SGD_L2.h5')\n",
    "pred = pre_model.predict_generator(test_generator, use_multiprocessing= True, verbose=1)\n"
   ]
  },
  {
   "cell_type": "code",
   "execution_count": 29,
   "metadata": {
    "colab": {
     "base_uri": "https://localhost:8080/",
     "height": 349
    },
    "colab_type": "code",
    "id": "J9XISIb5p2ti",
    "outputId": "50c6e8e8-7309-44a0-e6fe-cba6976e07cc"
   },
   "outputs": [
    {
     "name": "stdout",
     "output_type": "stream",
     "text": [
      "[0 0 1 0 4 0 0 0 2 0 0 0 0 0 0 0 0 1 0 1 2 0 2 0 0 0 0 0 0 0 2 0 0 0 1 0 2\n",
      " 0 0 0 1 1 0 3 0 0 0 0 0 0 0 2 0 0 2 0 0 0 0 1 0 0 0 0 0 0 0 0 0 0 1 0 0 0\n",
      " 0 0 0 2 1 0 0 0 0 0 0 0 2 2 1 0 0 0 1 0 0 2 0 2 0 1 2 2 0 2 0 0 3 0 0 1 0\n",
      " 0 0 2 0 0 1 0 2 1 4 0 2 0 0 0 0 0 2 2 0 0 2 0 0 0 0 2 0 0 4 0 0 4 0 0 0 1\n",
      " 3 0 0 1 0 0 0 0 0 0 1 0 0 0 0 2 0 0 0 1 0 2 1 0 0 0 0 0 0 0 0 0 0 3 0 2 0\n",
      " 0 0 0 3 0 3 2 0 0 2 0 0 0 0 0 2 0 0 3 0 0 0 0 2 0 0 0 1 0 1 0 0 0 0 0 2 1\n",
      " 0 0 0 2 0 0 1 0 1 0 0 1 2 0 0 0 2 0 0 0 0 0 1 0 0 0 0 0 0 2 2 0 0 1 0 0 0\n",
      " 0 0 0 2 0 0 1 0 2 0 0 1 0 0 0 2 1 0 0 0 0 2 0 2 0 0 0 0 0 3 0 0 0 2 0 2 0\n",
      " 0 2 2 2]\n",
      "[4 0 0 4 0 4 4 0 4 4 4 0 4 0 4 4 4 4 0 4 4 4 0 0 4 0 4 4 0 0 0 0 0 4 0 4 0\n",
      " 4 4 4 4 0 0 4 4 4 0 4 0 4 4 4 0 0 4 4 0 4 0 4 0 4 4 0 4 0 0 4 0 4 0 0 4 0\n",
      " 4 0 0 0 0 4 0 0 4 0 0 0 0 4 0 4 4 4 0 0 0 4 4 0 4 4 4 0 0 4 0 0 4 0 0 0 0\n",
      " 0 4 0 4 4 4 0 0 4 4 4 0 0 4 4 4 4 4 0 4 0 4 4 4 4 4 4 1 4 4 0 4 4 0 4 0 0\n",
      " 4 0 4 4 4 4 0 4 4 4 4 0 0 0 4 0 0 0 0 4 0 0 4 4 4 4 0 0 0 4 4 4 0 0 0 4 4\n",
      " 4 4 0 4 4 0 0 0 0 4 4 4 4 4 4 4 0 0 0 0 0 4 4 0 0 0 0 4 0 0 0 0 4 4 4 0 4\n",
      " 0 0 4 0 4 4 4 0 4 0 0 0 4 4 4 0 4 0 0 4 4 0 0 0 0 0 0 4 4 4 0 0 4 4 0 0 0\n",
      " 4 0 0 4 4 4 0 4 4 4 4 4 4 0 0 4 4 0 4 4 4 4 4 4 4 0 0 0 4 4 0 0 4 4 0 0 0\n",
      " 4 4 4 0]\n",
      "0.35333333333333333\n"
     ]
    }
   ],
   "source": [
    "predicted_class_indices = pred\n",
    "print(np.argmax(test_generator.labels, axis=1))\n",
    "print(np.argmax(pred, axis=1))\n",
    "\n",
    "print(sum(np.argmax(test_generator.labels, axis=1) == np.argmax(pred, axis=1)) / len(pred))"
   ]
  },
  {
   "cell_type": "code",
   "execution_count": 0,
   "metadata": {
    "colab": {
     "base_uri": "https://localhost:8080/",
     "height": 157
    },
    "colab_type": "code",
    "id": "CIFh5oJOp_Cl",
    "outputId": "3ea391a9-2099-4da4-93c4-e9ec5df41f2c"
   },
   "outputs": [
    {
     "data": {
      "text/plain": [
       "array([[0.20613018, 0.21034655, 0.21100241, 0.21388641, 0.20397377],\n",
       "       [0.20613018, 0.21034655, 0.21100241, 0.21388641, 0.20397377],\n",
       "       [0.20613018, 0.21034655, 0.21100241, 0.21388641, 0.20397377],\n",
       "       ...,\n",
       "       [0.20613018, 0.21034655, 0.21100241, 0.21388641, 0.20397377],\n",
       "       [0.20613018, 0.21034655, 0.21100241, 0.21388641, 0.20397377],\n",
       "       [0.20613018, 0.21034655, 0.21100241, 0.21388641, 0.20397377]],\n",
       "      dtype=float32)"
      ]
     },
     "execution_count": 70,
     "metadata": {
      "tags": []
     },
     "output_type": "execute_result"
    }
   ],
   "source": [
    "predicted_class_indices"
   ]
  },
  {
   "cell_type": "code",
   "execution_count": 0,
   "metadata": {
    "colab": {
     "base_uri": "https://localhost:8080/",
     "height": 238
    },
    "colab_type": "code",
    "id": "Z4DAvnt9qkGr",
    "outputId": "630ed902-a641-4ac9-b544-32e9f396baae"
   },
   "outputs": [
    {
     "ename": "AttributeError",
     "evalue": "ignored",
     "output_type": "error",
     "traceback": [
      "\u001b[0;31m---------------------------------------------------------------------------\u001b[0m",
      "\u001b[0;31mAttributeError\u001b[0m                            Traceback (most recent call last)",
      "\u001b[0;32m<ipython-input-90-2874d8619e31>\u001b[0m in \u001b[0;36m<module>\u001b[0;34m()\u001b[0m\n\u001b[1;32m     12\u001b[0m \u001b[0mtest_X\u001b[0m \u001b[0;34m=\u001b[0m \u001b[0mnp\u001b[0m\u001b[0;34m.\u001b[0m\u001b[0marray\u001b[0m\u001b[0;34m(\u001b[0m\u001b[0mtest_X\u001b[0m\u001b[0;34m)\u001b[0m\u001b[0;34m.\u001b[0m\u001b[0mreshape\u001b[0m\u001b[0;34m(\u001b[0m\u001b[0;34m-\u001b[0m\u001b[0;36m1\u001b[0m\u001b[0;34m,\u001b[0m \u001b[0;36m512\u001b[0m\u001b[0;34m,\u001b[0m \u001b[0;36m512\u001b[0m\u001b[0;34m,\u001b[0m \u001b[0;36m3\u001b[0m\u001b[0;34m)\u001b[0m\u001b[0;34m\u001b[0m\u001b[0;34m\u001b[0m\u001b[0m\n\u001b[1;32m     13\u001b[0m \u001b[0mtest_X\u001b[0m \u001b[0;34m=\u001b[0m \u001b[0mnp\u001b[0m\u001b[0;34m.\u001b[0m\u001b[0mfloat32\u001b[0m\u001b[0;34m(\u001b[0m\u001b[0mtest_X\u001b[0m\u001b[0;34m)\u001b[0m\u001b[0;34m\u001b[0m\u001b[0;34m\u001b[0m\u001b[0m\n\u001b[0;32m---> 14\u001b[0;31m \u001b[0mpred_Y\u001b[0m \u001b[0;34m=\u001b[0m \u001b[0mmodel\u001b[0m\u001b[0;34m.\u001b[0m\u001b[0mpredict_classes\u001b[0m\u001b[0;34m(\u001b[0m\u001b[0mtest_X\u001b[0m\u001b[0;34m)\u001b[0m\u001b[0;34m\u001b[0m\u001b[0;34m\u001b[0m\u001b[0m\n\u001b[0m\u001b[1;32m     15\u001b[0m \u001b[0mtest_Y\u001b[0m \u001b[0;34m=\u001b[0m \u001b[0mnp\u001b[0m\u001b[0;34m.\u001b[0m\u001b[0marray\u001b[0m\u001b[0;34m(\u001b[0m\u001b[0mtest_Y\u001b[0m\u001b[0;34m)\u001b[0m\u001b[0;34m\u001b[0m\u001b[0;34m\u001b[0m\u001b[0m\n\u001b[1;32m     16\u001b[0m \u001b[0;34m\u001b[0m\u001b[0m\n",
      "\u001b[0;31mAttributeError\u001b[0m: 'Model' object has no attribute 'predict_classes'"
     ]
    }
   ],
   "source": [
    "train, test= train_test_split(df_all, test_size=0.2, random_state=42)\n",
    "orgdata=[]\n",
    "for i in range(len(test)):\n",
    "  orgdata.append((test['image_irr'].iloc[i],test['label'].iloc[i]))\n",
    "test_X=[]\n",
    "test_Y=[]\n",
    "for i,j in orgdata:\n",
    "  test_X.append(i)\n",
    "  test_Y.append(j)\n",
    "\n",
    "\n",
    "test_X = np.array(test_X).reshape(-1, 512, 512, 3)\n",
    "test_X = np.float32(test_X)\n",
    "pred_Y = model.predict_classes(test_X)\n",
    "test_Y = np.array(test_Y)\n",
    "\n",
    "# come up with the confusion matrix and the \n",
    "# accuacy will the sum of elements along the diagonal \n",
    "# over total element\n",
    "\n",
    "from sklearn.metrics import confusion_matrix\n",
    "\n",
    "print(\"Accuracy = {}\".format(\n",
    "    np.trace(confusion_matrix(test_Y, pred_Y))/\n",
    "    np.sum(confusion_matrix(test_Y, pred_Y))\n",
    "))\n",
    "\n",
    "confusion_matrix(test_Y, pred_Y)"
   ]
  }
 ],
 "metadata": {
  "accelerator": "GPU",
  "colab": {
   "machine_shape": "hm",
   "name": "DR1.ipynb",
   "provenance": []
  },
  "kernelspec": {
   "display_name": "Python 3",
   "language": "python",
   "name": "python3"
  },
  "language_info": {
   "codemirror_mode": {
    "name": "ipython",
    "version": 3
   },
   "file_extension": ".py",
   "mimetype": "text/x-python",
   "name": "python",
   "nbconvert_exporter": "python",
   "pygments_lexer": "ipython3",
   "version": "3.6.5"
  }
 },
 "nbformat": 4,
 "nbformat_minor": 1
}
